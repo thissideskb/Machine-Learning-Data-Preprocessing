{
  "nbformat": 4,
  "nbformat_minor": 0,
  "metadata": {
    "colab": {
      "provenance": []
    },
    "kernelspec": {
      "name": "python3",
      "display_name": "Python 3"
    },
    "language_info": {
      "name": "python"
    }
  },
  "cells": [
    {
      "cell_type": "markdown",
      "source": [
        "Machine Learning Intro"
      ],
      "metadata": {
        "id": "3SAwBTH8Wlw7"
      }
    },
    {
      "cell_type": "markdown",
      "source": [
        "# Question 1\n",
        "Explain the differences between AI, ML, Deep Learning (DL), and Data Science (DS).\n",
        "\n",
        "**Answer:**  \n",
        "- **Artificial Intelligence (AI):** The broad field of making machines “think” or act smart, like humans. Example: Chatbots, recommendation systems.  \n",
        "- **Machine Learning (ML):** A subset of AI where systems learn from data without being directly programmed. Example: Spam email filter.  \n",
        "- **Deep Learning (DL):** A subset of ML that uses neural networks with many layers to solve complex tasks. Example: Self-driving cars detecting objects.  \n",
        "- **Data Science (DS):** The process of collecting, cleaning, analyzing, and visualizing data to make decisions. Example: Analyzing customer sales data to increase profits.\n",
        "\n",
        "# Question 2\n",
        "What are the types of machine learning? Describe each with one real-world example.\n",
        "\n",
        "**Answer:**  \n",
        "1. **Supervised Learning** – Model learns from labeled data. Example: Predicting house prices from size.  \n",
        "2. **Unsupervised Learning** – Model finds hidden patterns in unlabeled data. Example: Customer segmentation in marketing.  \n",
        "3. **Reinforcement Learning** – Model learns by trial and error, receiving rewards or penalties. Example: Training a robot to walk.  \n",
        "\n",
        "# Question 3\n",
        "Define overfitting, underfitting, and the bias-variance tradeoff in machine learning.\n",
        "\n",
        "**Answer:**  \n",
        "- **Overfitting:** Model learns the training data too well, including noise, and performs poorly on new data.  \n",
        "- **Underfitting:** Model is too simple, cannot capture patterns in the data.  \n",
        "- **Bias-Variance Tradeoff:** Finding the balance between a simple model (high bias, low variance) and a complex model (low bias, high variance). The goal is to minimize both errors for good performance.  \n",
        "\n",
        "# Question 4\n",
        "What are outliers in a dataset, and list three common techniques for handling them.\n",
        "\n",
        "**Answer:**  \n",
        "Outliers are data points that are very different from most of the data.  \n",
        "**Techniques to handle them:**  \n",
        "1. Remove them if they are errors.  \n",
        "2. Cap or floor values (winsorization).  \n",
        "3. Transform the data (log transform) to reduce their effect.  \n",
        "\n",
        "# Question 5\n",
        "Explain the process of handling missing values and mention one imputation technique for numerical and one for categorical data.\n",
        "\n",
        "**Answer:**  \n",
        "Steps:  \n",
        "1. Identify missing values.  \n",
        "2. Decide if they should be removed or imputed.  \n",
        "3. Apply a suitable method.  \n",
        "\n",
        "- **Numerical Imputation:** Replace missing values with mean/median.  \n",
        "- **Categorical Imputation:** Replace missing values with the most frequent category (mode).  "
      ],
      "metadata": {
        "id": "7FNhTab9WwSD"
      }
    },
    {
      "cell_type": "code",
      "source": [
        "# Question 6\n",
        "# Create a synthetic imbalanced dataset with sklearn.datasets.make_classification and print the class distribution.\n",
        "\n",
        "from sklearn.datasets import make_classification\n",
        "import numpy as np\n",
        "import collections\n",
        "\n",
        "# Create dataset\n",
        "X, y = make_classification(n_samples=1000, n_features=5, n_classes=2,\n",
        "                           weights=[0.9, 0.1], random_state=42)\n",
        "\n",
        "# Print class distribution\n",
        "print(\"Class Distribution:\", collections.Counter(y))\n",
        "\n",
        "# Explanation:\n",
        "# The dataset is imbalanced: one class has more samples than the other."
      ],
      "metadata": {
        "colab": {
          "base_uri": "https://localhost:8080/"
        },
        "id": "xXEKUGMvW73u",
        "outputId": "3788bece-f71b-4ed4-9a0b-06627c349057"
      },
      "execution_count": null,
      "outputs": [
        {
          "output_type": "stream",
          "name": "stdout",
          "text": [
            "Class Distribution: Counter({np.int64(0): 895, np.int64(1): 105})\n"
          ]
        }
      ]
    },
    {
      "cell_type": "code",
      "source": [
        "# Question 7\n",
        "# Implement one-hot encoding for ['Red', 'Green', 'Blue', 'Green', 'Red'] using pandas.\n",
        "\n",
        "import pandas as pd\n",
        "\n",
        "colors = ['Red', 'Green', 'Blue', 'Green', 'Red']\n",
        "df = pd.DataFrame(colors, columns=['Color'])\n",
        "\n",
        "# One-hot encoding\n",
        "encoded = pd.get_dummies(df, columns=['Color'])\n",
        "print(encoded)\n",
        "\n",
        "# Explanation:\n",
        "# Each unique color becomes a new column with 0/1 values."
      ],
      "metadata": {
        "colab": {
          "base_uri": "https://localhost:8080/"
        },
        "id": "MjJKeoW8W_Wz",
        "outputId": "66ccf05b-09b0-4c97-af90-c8711775af0d"
      },
      "execution_count": null,
      "outputs": [
        {
          "output_type": "stream",
          "name": "stdout",
          "text": [
            "   Color_Blue  Color_Green  Color_Red\n",
            "0       False        False       True\n",
            "1       False         True      False\n",
            "2        True        False      False\n",
            "3       False         True      False\n",
            "4       False        False       True\n"
          ]
        }
      ]
    },
    {
      "cell_type": "code",
      "source": [
        "# Question 8\n",
        "# Generate 1000 samples from a normal distribution, add 50 missing values,\n",
        "# fill them with the mean, and plot histograms before and after imputation.\n",
        "\n",
        "import numpy as np\n",
        "import matplotlib.pyplot as plt\n",
        "import random\n",
        "\n",
        "# Generate data\n",
        "data = np.random.normal(50, 10, 1000)\n",
        "\n",
        "# Introduce 50 missing values\n",
        "indices = random.sample(range(1000), 50)\n",
        "data_with_nan = data.copy()\n",
        "data_with_nan[indices] = np.nan\n",
        "\n",
        "# Before imputation\n",
        "plt.hist(data_with_nan[~np.isnan(data_with_nan)], bins=30, edgecolor='black')\n",
        "plt.title(\"Before Imputation\")\n",
        "plt.show()\n",
        "\n",
        "# Impute with mean\n",
        "mean_val = np.nanmean(data_with_nan)\n",
        "data_imputed = np.where(np.isnan(data_with_nan), mean_val, data_with_nan)\n",
        "\n",
        "# After imputation\n",
        "plt.hist(data_imputed, bins=30, edgecolor='black')\n",
        "plt.title(\"After Imputation\")\n",
        "plt.show()\n",
        "\n",
        "# Explanation:\n",
        "# Missing values are replaced with the column mean."
      ],
      "metadata": {
        "colab": {
          "base_uri": "https://localhost:8080/",
          "height": 887
        },
        "id": "gbUvqoXaXBzV",
        "outputId": "86eeab71-d1d5-4ad0-d253-e083e0b79d4e"
      },
      "execution_count": null,
      "outputs": [
        {
          "output_type": "display_data",
          "data": {
            "text/plain": [
              "<Figure size 640x480 with 1 Axes>"
            ],
            "image/png": "[encoded data removed]"
          },
          "metadata": {}
        },
        {
          "output_type": "display_data",
          "data": {
            "text/plain": [
              "<Figure size 640x480 with 1 Axes>"
            ],
            "image/png": "[encoded data removed]"
          },
          "metadata": {}
        }
      ]
    },
    {
      "cell_type": "code",
      "source": [
        "# Question 9\n",
        "# Apply Min-Max scaling on [2, 5, 10, 15, 20].\n",
        "\n",
        "from sklearn.preprocessing import MinMaxScaler\n",
        "import numpy as np\n",
        "\n",
        "data = np.array([[2], [5], [10], [15], [20]])\n",
        "scaler = MinMaxScaler()\n",
        "scaled = scaler.fit_transform(data)\n",
        "\n",
        "print(\"Scaled Data:\\n\", scaled)\n",
        "\n",
        "# Explanation:\n",
        "# Values are scaled between 0 and 1."
      ],
      "metadata": {
        "colab": {
          "base_uri": "https://localhost:8080/"
        },
        "id": "980qE-OeXDpz",
        "outputId": "4055611f-e2b9-4255-a6f5-972bdb8534ea"
      },
      "execution_count": null,
      "outputs": [
        {
          "output_type": "stream",
          "name": "stdout",
          "text": [
            "Scaled Data:\n",
            " [[0.        ]\n",
            " [0.16666667]\n",
            " [0.44444444]\n",
            " [0.72222222]\n",
            " [1.        ]]\n"
          ]
        }
      ]
    },
    {
      "cell_type": "markdown",
      "source": [
        "# Question 10\n",
        "You are working as a data scientist for a retail company. You receive a dataset with missing ages, outliers, imbalance, and categorical variables.\n",
        "\n",
        "**Answer (Step-by-step plan):**  \n",
        "1. **Handle missing data:**  \n",
        "   - For ages, fill with median (robust to outliers).  \n",
        "2. **Handle outliers:**  \n",
        "   - Use IQR method or winsorization.  \n",
        "3. **Handle imbalance:**  \n",
        "   - Use oversampling (SMOTE) or undersampling.  \n",
        "4. **Encode categorical variables:**  \n",
        "   - Apply one-hot encoding for payment methods.  \n",
        "5. **Scaling:**  \n",
        "   - Apply normalization or standardization before training.  \n",
        "6. **Final step:**  \n",
        "   - Split dataset into train/test, then train ML model.  \n",
        "\n",
        "This ensures the dataset is clean, balanced, and ready for modeling."
      ],
      "metadata": {
        "id": "yuS5Ff-fXVGf"
      }
    }
  ]
}